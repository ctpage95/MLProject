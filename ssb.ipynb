{
 "cells": [
  {
   "cell_type": "code",
   "execution_count": 475,
   "metadata": {},
   "outputs": [],
   "source": [
    "import pandas as pd\n",
    "import numpy as np\n",
    "from lxml import etree \n",
    "import urllib\n",
    "import os\n",
    "import requests\n",
    "from bs4 import BeautifulSoup\n",
    "import re\n",
    "import seaborn as sns\n",
    "from functools import reduce\n",
    "\n",
    "import matplotlib.pyplot as plt"
   ]
  },
  {
   "cell_type": "code",
   "execution_count": 476,
   "metadata": {},
   "outputs": [],
   "source": [
    "tables = pd.read_html(\"https://ultimateframedata.com/stats.php\")\n",
    "\n",
    "stats1 = pd.DataFrame(tables[1]).rename(columns={'Character': 'Name'})\n",
    "stats2 = pd.DataFrame(tables[2]).rename(columns={'Character': 'Name'})\n",
    "stats3 = pd.DataFrame(tables[3]).rename(columns={'Character': 'Name'})\n",
    "stats4 = pd.DataFrame(tables[4]).rename(columns={'Character': 'Name'})\n",
    "stats5 = pd.DataFrame(tables[5]).rename(columns={'Character': 'Name'})\n",
    "stats6 = pd.DataFrame(tables[6]).rename(columns={'Character': 'Name'})\n",
    "stats7 = pd.DataFrame(tables[7]).rename(columns={'Character': 'Name'})\n",
    "stats8 = pd.DataFrame(tables[8]).rename(columns={'Character': 'Name'})\n",
    "stats9 = pd.DataFrame(tables[9]).rename(columns={'Character': 'Name'})\n",
    "stats10 = pd.DataFrame(tables[10]).rename(columns={'Character': 'Name'})\n",
    "stats11 = pd.DataFrame(tables[11]).rename(columns={'Character': 'Name'})\n",
    "stats12 = pd.DataFrame(tables[12]).rename(columns={'Character': 'Name'})\n",
    "\n",
    "#stats = stats1.rename(columns={'Character': 'Name'})\n",
    "#stats.head()\n",
    "#all_characters = list(stats['Character'])\n",
    "\n",
    "dfs = [stats1, stats2,stats3, stats4,stats5, stats6,stats8,stats9,stats10,stats11,stats12]\n",
    "\n",
    "alldata = stats1.merge(stats2, on = 'Name')\n",
    "alldata = reduce(lambda  left,right: pd.merge(left,right,on=['Name']), dfs)\n",
    "alldata_names = alldata['Name']"
   ]
  },
  {
   "cell_type": "code",
   "execution_count": null,
   "metadata": {},
   "outputs": [],
   "source": []
  },
  {
   "cell_type": "code",
   "execution_count": 477,
   "metadata": {},
   "outputs": [],
   "source": [
    "perc_url = \"https://ssbworld.com/characters/win-percentage/\"\n",
    "r2 = requests.get(perc_url)\n",
    "soup2 = BeautifulSoup(r2.text, 'html.parser')\n",
    "\n",
    "fields2 = list(soup2.findAll(['div','a href'] , attrs={'class': re.compile(\"player-meta\")}))\n",
    "\n",
    "tags = soup2.find_all('a')\n",
    "urls = []\n",
    "for tag in tags:\n",
    "    urls.append(tag.get('href'))\n",
    "    \n",
    "urls = urls[28:92]"
   ]
  },
  {
   "cell_type": "code",
   "execution_count": 478,
   "metadata": {},
   "outputs": [],
   "source": [
    "# str1 = map(str,fields2)\n",
    "# res = list(map(lambda i: i[ : -10], str1)) \n",
    "\n",
    "# name = []\n",
    "# for i in res:\n",
    "#     name.append(i.split('\">'))\n",
    "\n",
    "# all_names = []\n",
    "# for i in name:\n",
    "#     all_names.append(i[2])\n",
    "    \n",
    "# all_names = all_names[64:]\n",
    "# all_names = [w.replace('&amp;', '&') for w in all_names]\n",
    "\n",
    "# all_names"
   ]
  },
  {
   "cell_type": "code",
   "execution_count": 479,
   "metadata": {},
   "outputs": [],
   "source": [
    "allurls = []\n",
    "for i in range(0,len(urls)):\n",
    "    allurls.append(\"https://ssbworld.com\" + urls[i])"
   ]
  },
  {
   "cell_type": "code",
   "execution_count": 8,
   "metadata": {},
   "outputs": [],
   "source": [
    "#soup = BeautifulSoup(r.text, 'html.parser')\n",
    "#print(soup.prettify())"
   ]
  },
  {
   "cell_type": "code",
   "execution_count": 9,
   "metadata": {},
   "outputs": [],
   "source": [
    "# final_df = pd.DataFrame()\n",
    "# for i in allurls:\n",
    "    \n",
    "#     char_url = i\n",
    "#     r = requests.get(char_url)\n",
    "#     soup = BeautifulSoup(r.text, 'html.parser')\n",
    "#     name_field= soup.find_all([\"h1\"],{\"class\":\"bio\"})\n",
    "#     fields = soup.find_all([\"h2\",\"div\"],{\"class\":\"player-stat\"})\n",
    "    \n",
    "#     name_list = []\n",
    "#     for f in name_field:\n",
    "#         name_list.append(f.text)\n",
    "\n",
    "#     rec_list = []\n",
    "#     for f in fields:\n",
    "#         rec_list.append(f.text)\n",
    "        \n",
    "#     # Create a dictionary with the data\n",
    "#     d = {}\n",
    "#     d['Name'] = name_list[0]\n",
    "#     d['Record'] = rec_list[0]\n",
    "#     d['Percent'] = rec_list[1]\n",
    "\n",
    "#     # Clean the lists and get only the records and percentages\n",
    "#     char_df = pd.DataFrame()\n",
    "#     char_df = (pd.DataFrame.from_dict(d, orient=\"index\")).T\n",
    "#     char_df['Record'] = char_df['Record'].str[-12:]\n",
    "#     char_df['Percent'] = char_df['Percent'].str[-6:-1]\n",
    "#     char_df['Record'] = char_df['Record'].str.strip(':')\n",
    "#     char_df['Percent'] = char_df['Percent'].str.strip(':')\n",
    "#     char_df['Record'] = char_df['Record'].str.strip(',')\n",
    "#     char_df['Record'] = char_df['Record'].str.strip('ord:')\n",
    "\n",
    "#     # Create the wins and losses columns from record\n",
    "#     char_df['Wins'] = char_df['Record'].str.split(' - ', expand = True)[0]\n",
    "#     char_df['Losses'] = char_df['Record'].str.split(' - ', expand = True)[1]\n",
    "\n",
    "#     final_df = final_df.append(char_df,ignore_index=True)\n",
    "    \n",
    "# #final_df\n",
    "\n",
    "# #final_df.to_csv('ssb.csv', index=False)"
   ]
  },
  {
   "cell_type": "code",
   "execution_count": 480,
   "metadata": {},
   "outputs": [],
   "source": [
    "final_df = pd.read_csv('ssb.csv')"
   ]
  },
  {
   "cell_type": "code",
   "execution_count": 481,
   "metadata": {},
   "outputs": [
    {
     "data": {
      "text/html": [
       "<div>\n",
       "<style scoped>\n",
       "    .dataframe tbody tr th:only-of-type {\n",
       "        vertical-align: middle;\n",
       "    }\n",
       "\n",
       "    .dataframe tbody tr th {\n",
       "        vertical-align: top;\n",
       "    }\n",
       "\n",
       "    .dataframe thead th {\n",
       "        text-align: right;\n",
       "    }\n",
       "</style>\n",
       "<table border=\"1\" class=\"dataframe\">\n",
       "  <thead>\n",
       "    <tr style=\"text-align: right;\">\n",
       "      <th></th>\n",
       "      <th>Name</th>\n",
       "      <th>Record</th>\n",
       "      <th>Percent</th>\n",
       "      <th>Wins</th>\n",
       "      <th>Losses</th>\n",
       "    </tr>\n",
       "  </thead>\n",
       "  <tbody>\n",
       "    <tr>\n",
       "      <td>0</td>\n",
       "      <td>Wario</td>\n",
       "      <td>541 - 371</td>\n",
       "      <td>59.32</td>\n",
       "      <td>541</td>\n",
       "      <td>371</td>\n",
       "    </tr>\n",
       "    <tr>\n",
       "      <td>1</td>\n",
       "      <td>Joker</td>\n",
       "      <td>618 - 430</td>\n",
       "      <td>58.97</td>\n",
       "      <td>618</td>\n",
       "      <td>430</td>\n",
       "    </tr>\n",
       "    <tr>\n",
       "      <td>2</td>\n",
       "      <td>Zero Suit Samus</td>\n",
       "      <td>1,044 - 737</td>\n",
       "      <td>58.62</td>\n",
       "      <td>1,044</td>\n",
       "      <td>737</td>\n",
       "    </tr>\n",
       "    <tr>\n",
       "      <td>3</td>\n",
       "      <td>Duck Hunt</td>\n",
       "      <td>280 - 202</td>\n",
       "      <td>58.09</td>\n",
       "      <td>280</td>\n",
       "      <td>202</td>\n",
       "    </tr>\n",
       "    <tr>\n",
       "      <td>4</td>\n",
       "      <td>Olimar</td>\n",
       "      <td>698 - 543</td>\n",
       "      <td>56.24</td>\n",
       "      <td>698</td>\n",
       "      <td>543</td>\n",
       "    </tr>\n",
       "  </tbody>\n",
       "</table>\n",
       "</div>"
      ],
      "text/plain": [
       "              Name       Record  Percent   Wins Losses\n",
       "0            Wario    541 - 371    59.32    541    371\n",
       "1            Joker    618 - 430    58.97    618    430\n",
       "2  Zero Suit Samus  1,044 - 737    58.62  1,044    737\n",
       "3        Duck Hunt    280 - 202    58.09    280    202\n",
       "4           Olimar    698 - 543    56.24    698    543"
      ]
     },
     "execution_count": 481,
     "metadata": {},
     "output_type": "execute_result"
    }
   ],
   "source": [
    "final_df.head()"
   ]
  },
  {
   "cell_type": "code",
   "execution_count": 30,
   "metadata": {},
   "outputs": [
    {
     "data": {
      "text/plain": [
       "64"
      ]
     },
     "execution_count": 30,
     "metadata": {},
     "output_type": "execute_result"
    }
   ],
   "source": []
  },
  {
   "cell_type": "code",
   "execution_count": 482,
   "metadata": {
    "scrolled": true
   },
   "outputs": [],
   "source": [
    "merged = final_df.merge(alldata, how='inner', on='Name')\n",
    "merged['Wins'] = merged['Wins'].str.replace(',','')\n",
    "merged['Losses'] = merged['Losses'].str.replace(',','')"
   ]
  },
  {
   "cell_type": "code",
   "execution_count": null,
   "metadata": {},
   "outputs": [],
   "source": []
  },
  {
   "cell_type": "code",
   "execution_count": 483,
   "metadata": {},
   "outputs": [],
   "source": [
    "merged['Percent'] = pd.to_numeric(merged['Percent'])\n",
    "merged['Full Hop_x'] = pd.to_numeric(merged['Full Hop_x'])\n",
    "merged['Air Jump'] = pd.to_numeric(merged['Air Jump'])\n",
    "merged['Short Hop_x'] = pd.to_numeric(merged['Short Hop_x'])\n",
    "merged['Percent'] = pd.to_numeric(merged['Percent'])\n",
    "merged['Wins'] = pd.to_numeric(merged['Wins'])\n",
    "merged['Losses'] = pd.to_numeric(merged['Losses'])\n",
    "merged['Slow (Full Dash)'] = pd.to_numeric(merged['Slow (Full Dash)'].replace('??', '0'))"
   ]
  },
  {
   "cell_type": "code",
   "execution_count": 496,
   "metadata": {},
   "outputs": [
    {
     "data": {
      "text/plain": [
       "-0.08305632709158099"
      ]
     },
     "execution_count": 496,
     "metadata": {},
     "output_type": "execute_result"
    }
   ],
   "source": [
    "merged['Percent'].corr(merged['Air Jump'])"
   ]
  },
  {
   "cell_type": "code",
   "execution_count": 485,
   "metadata": {},
   "outputs": [],
   "source": [
    "#merged.to_csv('merged.csv', index=False)"
   ]
  },
  {
   "cell_type": "code",
   "execution_count": 498,
   "metadata": {},
   "outputs": [
    {
     "data": {
      "text/plain": [
       "<matplotlib.axes._subplots.AxesSubplot at 0x1a2d3f69d0>"
      ]
     },
     "execution_count": 498,
     "metadata": {},
     "output_type": "execute_result"
    },
    {
     "data": {
      "image/png": "[encoded data removed]",
      "text/plain": [
       "<Figure size 432x288 with 1 Axes>"
      ]
     },
     "metadata": {
      "needs_background": "light"
     },
     "output_type": "display_data"
    }
   ],
   "source": [
    "sns.regplot(x='Percent', y='Run Speed', data=merged)"
   ]
  },
  {
   "cell_type": "code",
   "execution_count": 35,
   "metadata": {},
   "outputs": [
    {
     "data": {
      "text/plain": [
       "58"
      ]
     },
     "execution_count": 35,
     "metadata": {},
     "output_type": "execute_result"
    }
   ],
   "source": [
    "len(merged)"
   ]
  },
  {
   "cell_type": "code",
   "execution_count": 40,
   "metadata": {},
   "outputs": [
    {
     "data": {
      "text/plain": [
       "58"
      ]
     },
     "execution_count": 40,
     "metadata": {},
     "output_type": "execute_result"
    }
   ],
   "source": [
    "merged.to_csv('merged.csv', index = False)\n",
    "merged = pd.read_csv('merged.csv')\n",
    "#names = pd.DataFrame(merged['Name'])\n",
    "len(merged)"
   ]
  },
  {
   "cell_type": "code",
   "execution_count": 234,
   "metadata": {},
   "outputs": [],
   "source": [
    "merged = merged.select_dtypes(include=['int64', 'float'])\n",
    "merged = names.join(merged)"
   ]
  },
  {
   "cell_type": "code",
   "execution_count": 43,
   "metadata": {},
   "outputs": [],
   "source": [
    "# w = pd.DataFrame()\n",
    "# l = pd.DataFrame()\n",
    "# merged.iloc[0][3]\n",
    "\n",
    "# for j in range(0,len(merged)):\n",
    "    \n",
    "#     for i in range(1,merged.iloc[0][2]):\n",
    "#         w = w.append(merged.iloc[j:j+1], sort = False)\n",
    "#     w['Result'] = 1\n",
    "\n",
    "#     for i in range(1,merged.iloc[0][3]):\n",
    "#         l = l.append(merged.iloc[j:j+1], sort = False)\n",
    "#     l['Result'] = 0\n",
    "\n",
    "#     tot = w.append(l)\n"
   ]
  },
  {
   "cell_type": "code",
   "execution_count": null,
   "metadata": {},
   "outputs": [],
   "source": []
  },
  {
   "cell_type": "code",
   "execution_count": 45,
   "metadata": {},
   "outputs": [],
   "source": [
    "tot.to_csv(\"final.csv\", index = False)"
   ]
  },
  {
   "cell_type": "code",
   "execution_count": 50,
   "metadata": {},
   "outputs": [],
   "source": [
    "final = pd.read_csv('final.csv')"
   ]
  },
  {
   "cell_type": "code",
   "execution_count": 51,
   "metadata": {},
   "outputs": [
    {
     "data": {
      "text/html": [
       "<div>\n",
       "<style scoped>\n",
       "    .dataframe tbody tr th:only-of-type {\n",
       "        vertical-align: middle;\n",
       "    }\n",
       "\n",
       "    .dataframe tbody tr th {\n",
       "        vertical-align: top;\n",
       "    }\n",
       "\n",
       "    .dataframe thead th {\n",
       "        text-align: right;\n",
       "    }\n",
       "</style>\n",
       "<table border=\"1\" class=\"dataframe\">\n",
       "  <thead>\n",
       "    <tr style=\"text-align: right;\">\n",
       "      <th></th>\n",
       "      <th>Name</th>\n",
       "      <th>Percent</th>\n",
       "      <th>Wins</th>\n",
       "      <th>Losses</th>\n",
       "      <th>Air speed</th>\n",
       "      <th>Regular Fall</th>\n",
       "      <th>Fast Fall</th>\n",
       "      <th>Gravity</th>\n",
       "      <th>Full Hop_x</th>\n",
       "      <th>Short Hop_x</th>\n",
       "      <th>...</th>\n",
       "      <th>#1</th>\n",
       "      <th>#2</th>\n",
       "      <th>#3</th>\n",
       "      <th>Grab</th>\n",
       "      <th>Grab, Post-Shieldstun</th>\n",
       "      <th>Item Throw(Forward)</th>\n",
       "      <th>Item Throw(Back)</th>\n",
       "      <th>Jump+Z-Drop (Front)</th>\n",
       "      <th>Jump+Z-Drop(Behind)</th>\n",
       "      <th>Result</th>\n",
       "    </tr>\n",
       "  </thead>\n",
       "  <tbody>\n",
       "    <tr>\n",
       "      <td>0</td>\n",
       "      <td>Wario</td>\n",
       "      <td>59.32</td>\n",
       "      <td>541</td>\n",
       "      <td>371</td>\n",
       "      <td>1.271</td>\n",
       "      <td>1.61</td>\n",
       "      <td>2.576</td>\n",
       "      <td>0.107</td>\n",
       "      <td>30.5</td>\n",
       "      <td>14.70</td>\n",
       "      <td>...</td>\n",
       "      <td>6</td>\n",
       "      <td>7</td>\n",
       "      <td>8</td>\n",
       "      <td>8</td>\n",
       "      <td>12</td>\n",
       "      <td>10</td>\n",
       "      <td>14</td>\n",
       "      <td>4</td>\n",
       "      <td>5</td>\n",
       "      <td>1</td>\n",
       "    </tr>\n",
       "    <tr>\n",
       "      <td>1</td>\n",
       "      <td>Wario</td>\n",
       "      <td>59.32</td>\n",
       "      <td>541</td>\n",
       "      <td>371</td>\n",
       "      <td>1.271</td>\n",
       "      <td>1.61</td>\n",
       "      <td>2.576</td>\n",
       "      <td>0.107</td>\n",
       "      <td>30.5</td>\n",
       "      <td>14.70</td>\n",
       "      <td>...</td>\n",
       "      <td>6</td>\n",
       "      <td>7</td>\n",
       "      <td>8</td>\n",
       "      <td>8</td>\n",
       "      <td>12</td>\n",
       "      <td>10</td>\n",
       "      <td>14</td>\n",
       "      <td>4</td>\n",
       "      <td>5</td>\n",
       "      <td>1</td>\n",
       "    </tr>\n",
       "    <tr>\n",
       "      <td>2</td>\n",
       "      <td>Wario</td>\n",
       "      <td>59.32</td>\n",
       "      <td>541</td>\n",
       "      <td>371</td>\n",
       "      <td>1.271</td>\n",
       "      <td>1.61</td>\n",
       "      <td>2.576</td>\n",
       "      <td>0.107</td>\n",
       "      <td>30.5</td>\n",
       "      <td>14.70</td>\n",
       "      <td>...</td>\n",
       "      <td>6</td>\n",
       "      <td>7</td>\n",
       "      <td>8</td>\n",
       "      <td>8</td>\n",
       "      <td>12</td>\n",
       "      <td>10</td>\n",
       "      <td>14</td>\n",
       "      <td>4</td>\n",
       "      <td>5</td>\n",
       "      <td>1</td>\n",
       "    </tr>\n",
       "    <tr>\n",
       "      <td>3</td>\n",
       "      <td>Wario</td>\n",
       "      <td>59.32</td>\n",
       "      <td>541</td>\n",
       "      <td>371</td>\n",
       "      <td>1.271</td>\n",
       "      <td>1.61</td>\n",
       "      <td>2.576</td>\n",
       "      <td>0.107</td>\n",
       "      <td>30.5</td>\n",
       "      <td>14.70</td>\n",
       "      <td>...</td>\n",
       "      <td>6</td>\n",
       "      <td>7</td>\n",
       "      <td>8</td>\n",
       "      <td>8</td>\n",
       "      <td>12</td>\n",
       "      <td>10</td>\n",
       "      <td>14</td>\n",
       "      <td>4</td>\n",
       "      <td>5</td>\n",
       "      <td>1</td>\n",
       "    </tr>\n",
       "    <tr>\n",
       "      <td>4</td>\n",
       "      <td>Wario</td>\n",
       "      <td>59.32</td>\n",
       "      <td>541</td>\n",
       "      <td>371</td>\n",
       "      <td>1.271</td>\n",
       "      <td>1.61</td>\n",
       "      <td>2.576</td>\n",
       "      <td>0.107</td>\n",
       "      <td>30.5</td>\n",
       "      <td>14.70</td>\n",
       "      <td>...</td>\n",
       "      <td>6</td>\n",
       "      <td>7</td>\n",
       "      <td>8</td>\n",
       "      <td>8</td>\n",
       "      <td>12</td>\n",
       "      <td>10</td>\n",
       "      <td>14</td>\n",
       "      <td>4</td>\n",
       "      <td>5</td>\n",
       "      <td>1</td>\n",
       "    </tr>\n",
       "    <tr>\n",
       "      <td>...</td>\n",
       "      <td>...</td>\n",
       "      <td>...</td>\n",
       "      <td>...</td>\n",
       "      <td>...</td>\n",
       "      <td>...</td>\n",
       "      <td>...</td>\n",
       "      <td>...</td>\n",
       "      <td>...</td>\n",
       "      <td>...</td>\n",
       "      <td>...</td>\n",
       "      <td>...</td>\n",
       "      <td>...</td>\n",
       "      <td>...</td>\n",
       "      <td>...</td>\n",
       "      <td>...</td>\n",
       "      <td>...</td>\n",
       "      <td>...</td>\n",
       "      <td>...</td>\n",
       "      <td>...</td>\n",
       "      <td>...</td>\n",
       "      <td>...</td>\n",
       "    </tr>\n",
       "    <tr>\n",
       "      <td>52775</td>\n",
       "      <td>Isabelle</td>\n",
       "      <td>38.37</td>\n",
       "      <td>94</td>\n",
       "      <td>151</td>\n",
       "      <td>1.020</td>\n",
       "      <td>1.30</td>\n",
       "      <td>2.080</td>\n",
       "      <td>0.070</td>\n",
       "      <td>32.5</td>\n",
       "      <td>15.69</td>\n",
       "      <td>...</td>\n",
       "      <td>8</td>\n",
       "      <td>9</td>\n",
       "      <td>11</td>\n",
       "      <td>14</td>\n",
       "      <td>18</td>\n",
       "      <td>8</td>\n",
       "      <td>11</td>\n",
       "      <td>4</td>\n",
       "      <td>5</td>\n",
       "      <td>0</td>\n",
       "    </tr>\n",
       "    <tr>\n",
       "      <td>52776</td>\n",
       "      <td>Isabelle</td>\n",
       "      <td>38.37</td>\n",
       "      <td>94</td>\n",
       "      <td>151</td>\n",
       "      <td>1.020</td>\n",
       "      <td>1.30</td>\n",
       "      <td>2.080</td>\n",
       "      <td>0.070</td>\n",
       "      <td>32.5</td>\n",
       "      <td>15.69</td>\n",
       "      <td>...</td>\n",
       "      <td>8</td>\n",
       "      <td>9</td>\n",
       "      <td>11</td>\n",
       "      <td>14</td>\n",
       "      <td>18</td>\n",
       "      <td>8</td>\n",
       "      <td>11</td>\n",
       "      <td>4</td>\n",
       "      <td>5</td>\n",
       "      <td>0</td>\n",
       "    </tr>\n",
       "    <tr>\n",
       "      <td>52777</td>\n",
       "      <td>Isabelle</td>\n",
       "      <td>38.37</td>\n",
       "      <td>94</td>\n",
       "      <td>151</td>\n",
       "      <td>1.020</td>\n",
       "      <td>1.30</td>\n",
       "      <td>2.080</td>\n",
       "      <td>0.070</td>\n",
       "      <td>32.5</td>\n",
       "      <td>15.69</td>\n",
       "      <td>...</td>\n",
       "      <td>8</td>\n",
       "      <td>9</td>\n",
       "      <td>11</td>\n",
       "      <td>14</td>\n",
       "      <td>18</td>\n",
       "      <td>8</td>\n",
       "      <td>11</td>\n",
       "      <td>4</td>\n",
       "      <td>5</td>\n",
       "      <td>0</td>\n",
       "    </tr>\n",
       "    <tr>\n",
       "      <td>52778</td>\n",
       "      <td>Isabelle</td>\n",
       "      <td>38.37</td>\n",
       "      <td>94</td>\n",
       "      <td>151</td>\n",
       "      <td>1.020</td>\n",
       "      <td>1.30</td>\n",
       "      <td>2.080</td>\n",
       "      <td>0.070</td>\n",
       "      <td>32.5</td>\n",
       "      <td>15.69</td>\n",
       "      <td>...</td>\n",
       "      <td>8</td>\n",
       "      <td>9</td>\n",
       "      <td>11</td>\n",
       "      <td>14</td>\n",
       "      <td>18</td>\n",
       "      <td>8</td>\n",
       "      <td>11</td>\n",
       "      <td>4</td>\n",
       "      <td>5</td>\n",
       "      <td>0</td>\n",
       "    </tr>\n",
       "    <tr>\n",
       "      <td>52779</td>\n",
       "      <td>Isabelle</td>\n",
       "      <td>38.37</td>\n",
       "      <td>94</td>\n",
       "      <td>151</td>\n",
       "      <td>1.020</td>\n",
       "      <td>1.30</td>\n",
       "      <td>2.080</td>\n",
       "      <td>0.070</td>\n",
       "      <td>32.5</td>\n",
       "      <td>15.69</td>\n",
       "      <td>...</td>\n",
       "      <td>8</td>\n",
       "      <td>9</td>\n",
       "      <td>11</td>\n",
       "      <td>14</td>\n",
       "      <td>18</td>\n",
       "      <td>8</td>\n",
       "      <td>11</td>\n",
       "      <td>4</td>\n",
       "      <td>5</td>\n",
       "      <td>0</td>\n",
       "    </tr>\n",
       "  </tbody>\n",
       "</table>\n",
       "<p>52780 rows × 32 columns</p>\n",
       "</div>"
      ],
      "text/plain": [
       "           Name  Percent  Wins  Losses  Air speed  Regular Fall  Fast Fall  \\\n",
       "0         Wario    59.32   541     371      1.271          1.61      2.576   \n",
       "1         Wario    59.32   541     371      1.271          1.61      2.576   \n",
       "2         Wario    59.32   541     371      1.271          1.61      2.576   \n",
       "3         Wario    59.32   541     371      1.271          1.61      2.576   \n",
       "4         Wario    59.32   541     371      1.271          1.61      2.576   \n",
       "...         ...      ...   ...     ...        ...           ...        ...   \n",
       "52775  Isabelle    38.37    94     151      1.020          1.30      2.080   \n",
       "52776  Isabelle    38.37    94     151      1.020          1.30      2.080   \n",
       "52777  Isabelle    38.37    94     151      1.020          1.30      2.080   \n",
       "52778  Isabelle    38.37    94     151      1.020          1.30      2.080   \n",
       "52779  Isabelle    38.37    94     151      1.020          1.30      2.080   \n",
       "\n",
       "       Gravity  Full Hop_x  Short Hop_x  ...  #1  #2  #3  Grab  \\\n",
       "0        0.107        30.5        14.70  ...   6   7   8     8   \n",
       "1        0.107        30.5        14.70  ...   6   7   8     8   \n",
       "2        0.107        30.5        14.70  ...   6   7   8     8   \n",
       "3        0.107        30.5        14.70  ...   6   7   8     8   \n",
       "4        0.107        30.5        14.70  ...   6   7   8     8   \n",
       "...        ...         ...          ...  ...  ..  ..  ..   ...   \n",
       "52775    0.070        32.5        15.69  ...   8   9  11    14   \n",
       "52776    0.070        32.5        15.69  ...   8   9  11    14   \n",
       "52777    0.070        32.5        15.69  ...   8   9  11    14   \n",
       "52778    0.070        32.5        15.69  ...   8   9  11    14   \n",
       "52779    0.070        32.5        15.69  ...   8   9  11    14   \n",
       "\n",
       "       Grab, Post-Shieldstun  Item Throw(Forward)  Item Throw(Back)  \\\n",
       "0                         12                   10                14   \n",
       "1                         12                   10                14   \n",
       "2                         12                   10                14   \n",
       "3                         12                   10                14   \n",
       "4                         12                   10                14   \n",
       "...                      ...                  ...               ...   \n",
       "52775                     18                    8                11   \n",
       "52776                     18                    8                11   \n",
       "52777                     18                    8                11   \n",
       "52778                     18                    8                11   \n",
       "52779                     18                    8                11   \n",
       "\n",
       "       Jump+Z-Drop (Front)  Jump+Z-Drop(Behind)  Result  \n",
       "0                        4                    5       1  \n",
       "1                        4                    5       1  \n",
       "2                        4                    5       1  \n",
       "3                        4                    5       1  \n",
       "4                        4                    5       1  \n",
       "...                    ...                  ...     ...  \n",
       "52775                    4                    5       0  \n",
       "52776                    4                    5       0  \n",
       "52777                    4                    5       0  \n",
       "52778                    4                    5       0  \n",
       "52779                    4                    5       0  \n",
       "\n",
       "[52780 rows x 32 columns]"
      ]
     },
     "execution_count": 51,
     "metadata": {},
     "output_type": "execute_result"
    }
   ],
   "source": [
    "final"
   ]
  },
  {
   "cell_type": "code",
   "execution_count": 167,
   "metadata": {},
   "outputs": [],
   "source": []
  },
  {
   "cell_type": "code",
   "execution_count": 258,
   "metadata": {},
   "outputs": [],
   "source": [
    "alldata = alldata.replace('**', '0')\n",
    "\n",
    "\n",
    "#alldata['Full Hop_x'] = pd.to_numeric(alldata['Full Hop_x'])\n",
    "alldata['Initial Dash'] = pd.to_numeric(alldata['Initial Dash'])\n",
    "alldata['Air Jump'] = pd.to_numeric(alldata['Air Jump'])\n",
    "alldata['Short Hop_x'] = pd.to_numeric(alldata['Short Hop_x'])\n",
    "alldata['Slow (Full Dash)'] = pd.to_numeric(alldata['Slow (Full Dash)'].replace('??', '0'))\n",
    "alldata['Grab, Post-Shieldstun'] = pd.to_numeric(alldata['Grab, Post-Shieldstun'])\n",
    "alldata['Item Throw(Forward)'] = pd.to_numeric(alldata['Item Throw(Forward)'])\n",
    "alldata['Item Throw(Back)'] = pd.to_numeric(alldata['Item Throw(Back)'])\n",
    "alldata['Jump+Z-Drop (Front)'] = pd.to_numeric(alldata['Jump+Z-Drop (Front)'])\n",
    "alldata['Jump+Z-Drop(Behind)'] = pd.to_numeric(alldata['Jump+Z-Drop(Behind)'])"
   ]
  },
  {
   "cell_type": "code",
   "execution_count": 259,
   "metadata": {},
   "outputs": [],
   "source": [
    "alldata = alldata.select_dtypes(include=['int64', 'float'])"
   ]
  },
  {
   "cell_type": "code",
   "execution_count": null,
   "metadata": {},
   "outputs": [],
   "source": []
  },
  {
   "cell_type": "markdown",
   "metadata": {},
   "source": [
    "## Perform Machine Learning"
   ]
  },
  {
   "cell_type": "code",
   "execution_count": 245,
   "metadata": {},
   "outputs": [],
   "source": [
    "from sklearn.model_selection import train_test_split, cross_val_score\n",
    "from sklearn.linear_model import LogisticRegression\n",
    "from sklearn.ensemble import RandomForestClassifier\n",
    "from sklearn.linear_model import LinearRegression"
   ]
  },
  {
   "cell_type": "code",
   "execution_count": 207,
   "metadata": {},
   "outputs": [],
   "source": [
    "X = final.drop(['Name', 'Result', 'Wins', 'Losses', 'Percent', 'Full Hop_x'], axis = 1)\n",
    "y = final['Result']\n",
    "\n",
    "X_train, X_test, y_train, y_test = train_test_split(X, y, random_state = 801, test_size = .33)"
   ]
  },
  {
   "cell_type": "markdown",
   "metadata": {},
   "source": [
    "### Logistic Regression"
   ]
  },
  {
   "cell_type": "code",
   "execution_count": 385,
   "metadata": {},
   "outputs": [
    {
     "name": "stderr",
     "output_type": "stream",
     "text": [
      "/Users/cameronpage/opt/anaconda3/lib/python3.7/site-packages/sklearn/linear_model/logistic.py:947: ConvergenceWarning: lbfgs failed to converge. Increase the number of iterations.\n",
      "  \"of iterations.\", ConvergenceWarning)\n"
     ]
    },
    {
     "data": {
      "text/plain": [
       "LogisticRegression(C=1.0, class_weight=None, dual=False, fit_intercept=True,\n",
       "                   intercept_scaling=1, l1_ratio=None, max_iter=100,\n",
       "                   multi_class='warn', n_jobs=None, penalty='l2',\n",
       "                   random_state=None, solver='lbfgs', tol=0.0001, verbose=0,\n",
       "                   warm_start=False)"
      ]
     },
     "execution_count": 385,
     "metadata": {},
     "output_type": "execute_result"
    }
   ],
   "source": [
    "logreg = LogisticRegression(solver='lbfgs')\n",
    "logreg.fit(X_train, y_train)"
   ]
  },
  {
   "cell_type": "code",
   "execution_count": 386,
   "metadata": {},
   "outputs": [
    {
     "data": {
      "text/plain": [
       "0.5874382822367665"
      ]
     },
     "execution_count": 386,
     "metadata": {},
     "output_type": "execute_result"
    }
   ],
   "source": [
    "logreg.score(X_test, y_test)"
   ]
  },
  {
   "cell_type": "code",
   "execution_count": 387,
   "metadata": {},
   "outputs": [],
   "source": [
    "preds_logreg = logreg.predict_proba(alldata)"
   ]
  },
  {
   "cell_type": "code",
   "execution_count": 388,
   "metadata": {},
   "outputs": [],
   "source": [
    "win_prob_logreg = []\n",
    "for i in preds_logreg:\n",
    "    win_prob_logreg.append(i[1])\n",
    "\n",
    "alldata_logreg = alldata.copy()\n",
    "alldata_logreg['Win Probability'] = win_prob_logreg"
   ]
  },
  {
   "cell_type": "code",
   "execution_count": 389,
   "metadata": {},
   "outputs": [],
   "source": [
    "alldata_logreg.insert(0, value=alldata_names, column = 'Name')\n",
    "alldata_logreg = alldata_logreg.sort_values(by='Win Probability', ascending=True)"
   ]
  },
  {
   "cell_type": "code",
   "execution_count": 390,
   "metadata": {},
   "outputs": [],
   "source": [
    "alldata_logreg.insert(0, value = range(1,72), column = 'Score')"
   ]
  },
  {
   "cell_type": "markdown",
   "metadata": {},
   "source": [
    "### Random Forest"
   ]
  },
  {
   "cell_type": "code",
   "execution_count": 377,
   "metadata": {},
   "outputs": [],
   "source": [
    "rf = RandomForestClassifier(n_estimators = 150)"
   ]
  },
  {
   "cell_type": "code",
   "execution_count": 378,
   "metadata": {},
   "outputs": [
    {
     "data": {
      "text/plain": [
       "RandomForestClassifier(bootstrap=True, class_weight=None, criterion='gini',\n",
       "                       max_depth=None, max_features='auto', max_leaf_nodes=None,\n",
       "                       min_impurity_decrease=0.0, min_impurity_split=None,\n",
       "                       min_samples_leaf=1, min_samples_split=2,\n",
       "                       min_weight_fraction_leaf=0.0, n_estimators=150,\n",
       "                       n_jobs=None, oob_score=False, random_state=None,\n",
       "                       verbose=0, warm_start=False)"
      ]
     },
     "execution_count": 378,
     "metadata": {},
     "output_type": "execute_result"
    }
   ],
   "source": [
    "rf.fit(X_train, y_train)"
   ]
  },
  {
   "cell_type": "code",
   "execution_count": 379,
   "metadata": {},
   "outputs": [
    {
     "data": {
      "text/plain": [
       "0.5874382822367665"
      ]
     },
     "execution_count": 379,
     "metadata": {},
     "output_type": "execute_result"
    }
   ],
   "source": [
    "rf.score(X_test, y_test)"
   ]
  },
  {
   "cell_type": "code",
   "execution_count": 380,
   "metadata": {},
   "outputs": [],
   "source": [
    "rf.predict_proba(alldata)\n",
    "\n",
    "win_prob_rf = []\n",
    "for i in preds:\n",
    "    win_prob_rf.append(i[1])\n",
    "\n",
    "alldata_rf = alldata.copy()\n",
    "alldata_rf['Win Probability'] = win_prob_rf"
   ]
  },
  {
   "cell_type": "code",
   "execution_count": 381,
   "metadata": {},
   "outputs": [],
   "source": [
    "alldata_rf.insert(0, value=alldata_names, column = 'Name')\n",
    "alldata_rf = alldata_rf.sort_values(by='Win Probability', ascending=True)"
   ]
  },
  {
   "cell_type": "code",
   "execution_count": 382,
   "metadata": {},
   "outputs": [],
   "source": [
    "alldata_rf.insert(0, value = range(1,72), column = 'Score')"
   ]
  },
  {
   "cell_type": "markdown",
   "metadata": {},
   "source": [
    "### Linear Regression"
   ]
  },
  {
   "cell_type": "code",
   "execution_count": 278,
   "metadata": {},
   "outputs": [
    {
     "data": {
      "text/plain": [
       "LinearRegression(copy_X=True, fit_intercept=True, n_jobs=None, normalize=False)"
      ]
     },
     "execution_count": 278,
     "metadata": {},
     "output_type": "execute_result"
    }
   ],
   "source": [
    "lr = LinearRegression()\n",
    "lr.fit(X_train, y_train)"
   ]
  },
  {
   "cell_type": "code",
   "execution_count": 293,
   "metadata": {},
   "outputs": [],
   "source": [
    "preds_lr = lr.predict(alldata)"
   ]
  },
  {
   "cell_type": "code",
   "execution_count": 325,
   "metadata": {},
   "outputs": [],
   "source": [
    "lr.predict(alldata)\n",
    "\n",
    "win_prob_lr = []\n",
    "for i in preds_lr:\n",
    "    win_prob_lr.append(i)\n",
    "\n",
    "alldata_lr = alldata.copy()\n",
    "alldata_lr['Win Probability'] = win_prob_lr"
   ]
  },
  {
   "cell_type": "code",
   "execution_count": 326,
   "metadata": {},
   "outputs": [],
   "source": [
    "alldata_lr.insert(0, value=alldata_names, column = 'Name')\n",
    "alldata_lr = alldata_lr.sort_values(by='Win Probability', ascending=True)"
   ]
  },
  {
   "cell_type": "code",
   "execution_count": 327,
   "metadata": {},
   "outputs": [],
   "source": [
    "alldata_lr.insert(0, value = range(1,72), column = 'Score')"
   ]
  },
  {
   "cell_type": "markdown",
   "metadata": {},
   "source": [
    "### Calculate scores from all the models"
   ]
  },
  {
   "cell_type": "code",
   "execution_count": 456,
   "metadata": {},
   "outputs": [],
   "source": [
    "all_scores1 = alldata_logreg[['Score','Name']]\n",
    "all_scores2 = alldata_rf[['Score','Name']]\n",
    "all_scores3 = alldata_lr[['Score','Name']]\n",
    "\n",
    "all_scores = pd.merge(all_scores2, all_scores3, on = 'Name' )\n",
    "all_scores = pd.merge(all_scores1, all_scores)"
   ]
  },
  {
   "cell_type": "code",
   "execution_count": 457,
   "metadata": {},
   "outputs": [],
   "source": [
    "all_scores = all_scores.groupby('Name')['Score','Score_x', 'Score_y'].sum()\n",
    "all_scores = pd.DataFrame(all_scores['Score'] + all_scores['Score_x'] + all_scores['Score_y'])"
   ]
  },
  {
   "cell_type": "code",
   "execution_count": 458,
   "metadata": {},
   "outputs": [],
   "source": [
    "all_scores = all_scores.sort_values(by = 0, ascending=False)"
   ]
  },
  {
   "cell_type": "code",
   "execution_count": 459,
   "metadata": {},
   "outputs": [],
   "source": [
    "all_scores.insert(0, column = \"Rank\", value = range(1, 72))"
   ]
  },
  {
   "cell_type": "code",
   "execution_count": null,
   "metadata": {},
   "outputs": [],
   "source": []
  },
  {
   "cell_type": "code",
   "execution_count": 471,
   "metadata": {},
   "outputs": [
    {
     "data": {
      "text/html": [
       "<div>\n",
       "<style scoped>\n",
       "    .dataframe tbody tr th:only-of-type {\n",
       "        vertical-align: middle;\n",
       "    }\n",
       "\n",
       "    .dataframe tbody tr th {\n",
       "        vertical-align: top;\n",
       "    }\n",
       "\n",
       "    .dataframe thead th {\n",
       "        text-align: right;\n",
       "    }\n",
       "</style>\n",
       "<table border=\"1\" class=\"dataframe\">\n",
       "  <thead>\n",
       "    <tr style=\"text-align: right;\">\n",
       "      <th></th>\n",
       "      <th>Rank</th>\n",
       "      <th>0</th>\n",
       "    </tr>\n",
       "    <tr>\n",
       "      <th>Name</th>\n",
       "      <th></th>\n",
       "      <th></th>\n",
       "    </tr>\n",
       "  </thead>\n",
       "  <tbody>\n",
       "    <tr>\n",
       "      <td>Dark Samus</td>\n",
       "      <td>1</td>\n",
       "      <td>210</td>\n",
       "    </tr>\n",
       "    <tr>\n",
       "      <td>Piranha Plant</td>\n",
       "      <td>2</td>\n",
       "      <td>202</td>\n",
       "    </tr>\n",
       "    <tr>\n",
       "      <td>Bowser</td>\n",
       "      <td>3</td>\n",
       "      <td>199</td>\n",
       "    </tr>\n",
       "    <tr>\n",
       "      <td>Ryu</td>\n",
       "      <td>4</td>\n",
       "      <td>197</td>\n",
       "    </tr>\n",
       "    <tr>\n",
       "      <td>Greninja</td>\n",
       "      <td>5</td>\n",
       "      <td>196</td>\n",
       "    </tr>\n",
       "    <tr>\n",
       "      <td>Ken</td>\n",
       "      <td>6</td>\n",
       "      <td>191</td>\n",
       "    </tr>\n",
       "    <tr>\n",
       "      <td>Incineroar</td>\n",
       "      <td>7</td>\n",
       "      <td>189</td>\n",
       "    </tr>\n",
       "    <tr>\n",
       "      <td>Ganondorf</td>\n",
       "      <td>8</td>\n",
       "      <td>189</td>\n",
       "    </tr>\n",
       "    <tr>\n",
       "      <td>Captain Falcon</td>\n",
       "      <td>9</td>\n",
       "      <td>185</td>\n",
       "    </tr>\n",
       "    <tr>\n",
       "      <td>Pichu</td>\n",
       "      <td>10</td>\n",
       "      <td>180</td>\n",
       "    </tr>\n",
       "    <tr>\n",
       "      <td>Richter</td>\n",
       "      <td>11</td>\n",
       "      <td>176</td>\n",
       "    </tr>\n",
       "    <tr>\n",
       "      <td>Simon</td>\n",
       "      <td>12</td>\n",
       "      <td>173</td>\n",
       "    </tr>\n",
       "    <tr>\n",
       "      <td>Yoshi</td>\n",
       "      <td>13</td>\n",
       "      <td>171</td>\n",
       "    </tr>\n",
       "    <tr>\n",
       "      <td>Zero Suit Samus</td>\n",
       "      <td>14</td>\n",
       "      <td>168</td>\n",
       "    </tr>\n",
       "    <tr>\n",
       "      <td>Villager</td>\n",
       "      <td>15</td>\n",
       "      <td>167</td>\n",
       "    </tr>\n",
       "    <tr>\n",
       "      <td>Bowser Jr.</td>\n",
       "      <td>16</td>\n",
       "      <td>158</td>\n",
       "    </tr>\n",
       "    <tr>\n",
       "      <td>Bayonetta</td>\n",
       "      <td>17</td>\n",
       "      <td>151</td>\n",
       "    </tr>\n",
       "    <tr>\n",
       "      <td>Wii Fit Trainer</td>\n",
       "      <td>18</td>\n",
       "      <td>147</td>\n",
       "    </tr>\n",
       "    <tr>\n",
       "      <td>Mii Brawler</td>\n",
       "      <td>19</td>\n",
       "      <td>146</td>\n",
       "    </tr>\n",
       "    <tr>\n",
       "      <td>Samus</td>\n",
       "      <td>20</td>\n",
       "      <td>146</td>\n",
       "    </tr>\n",
       "    <tr>\n",
       "      <td>Wario</td>\n",
       "      <td>21</td>\n",
       "      <td>146</td>\n",
       "    </tr>\n",
       "    <tr>\n",
       "      <td>Donkey Kong</td>\n",
       "      <td>22</td>\n",
       "      <td>143</td>\n",
       "    </tr>\n",
       "    <tr>\n",
       "      <td>King Dedede</td>\n",
       "      <td>23</td>\n",
       "      <td>142</td>\n",
       "    </tr>\n",
       "    <tr>\n",
       "      <td>King K. Rool</td>\n",
       "      <td>24</td>\n",
       "      <td>139</td>\n",
       "    </tr>\n",
       "    <tr>\n",
       "      <td>Ike</td>\n",
       "      <td>25</td>\n",
       "      <td>136</td>\n",
       "    </tr>\n",
       "    <tr>\n",
       "      <td>Wolf</td>\n",
       "      <td>26</td>\n",
       "      <td>133</td>\n",
       "    </tr>\n",
       "    <tr>\n",
       "      <td>Fox</td>\n",
       "      <td>27</td>\n",
       "      <td>131</td>\n",
       "    </tr>\n",
       "    <tr>\n",
       "      <td>Diddy Kong</td>\n",
       "      <td>28</td>\n",
       "      <td>128</td>\n",
       "    </tr>\n",
       "    <tr>\n",
       "      <td>Toon Link</td>\n",
       "      <td>29</td>\n",
       "      <td>126</td>\n",
       "    </tr>\n",
       "    <tr>\n",
       "      <td>Zelda</td>\n",
       "      <td>30</td>\n",
       "      <td>122</td>\n",
       "    </tr>\n",
       "    <tr>\n",
       "      <td>Shulk</td>\n",
       "      <td>31</td>\n",
       "      <td>120</td>\n",
       "    </tr>\n",
       "    <tr>\n",
       "      <td>Palutena</td>\n",
       "      <td>32</td>\n",
       "      <td>117</td>\n",
       "    </tr>\n",
       "    <tr>\n",
       "      <td>Cloud</td>\n",
       "      <td>33</td>\n",
       "      <td>117</td>\n",
       "    </tr>\n",
       "    <tr>\n",
       "      <td>Lucas</td>\n",
       "      <td>34</td>\n",
       "      <td>115</td>\n",
       "    </tr>\n",
       "    <tr>\n",
       "      <td>Mii Gunner</td>\n",
       "      <td>35</td>\n",
       "      <td>114</td>\n",
       "    </tr>\n",
       "    <tr>\n",
       "      <td>Robin</td>\n",
       "      <td>36</td>\n",
       "      <td>114</td>\n",
       "    </tr>\n",
       "    <tr>\n",
       "      <td>Young Link</td>\n",
       "      <td>37</td>\n",
       "      <td>112</td>\n",
       "    </tr>\n",
       "    <tr>\n",
       "      <td>Luigi</td>\n",
       "      <td>38</td>\n",
       "      <td>111</td>\n",
       "    </tr>\n",
       "    <tr>\n",
       "      <td>Mii Swordfighter</td>\n",
       "      <td>39</td>\n",
       "      <td>101</td>\n",
       "    </tr>\n",
       "    <tr>\n",
       "      <td>Mega Man</td>\n",
       "      <td>40</td>\n",
       "      <td>94</td>\n",
       "    </tr>\n",
       "    <tr>\n",
       "      <td>Ridley</td>\n",
       "      <td>41</td>\n",
       "      <td>92</td>\n",
       "    </tr>\n",
       "    <tr>\n",
       "      <td>Corrin</td>\n",
       "      <td>42</td>\n",
       "      <td>87</td>\n",
       "    </tr>\n",
       "    <tr>\n",
       "      <td>Falco</td>\n",
       "      <td>43</td>\n",
       "      <td>87</td>\n",
       "    </tr>\n",
       "    <tr>\n",
       "      <td>Dr. Mario</td>\n",
       "      <td>44</td>\n",
       "      <td>87</td>\n",
       "    </tr>\n",
       "    <tr>\n",
       "      <td>Isabelle</td>\n",
       "      <td>45</td>\n",
       "      <td>84</td>\n",
       "    </tr>\n",
       "    <tr>\n",
       "      <td>Inkling</td>\n",
       "      <td>46</td>\n",
       "      <td>77</td>\n",
       "    </tr>\n",
       "    <tr>\n",
       "      <td>Olimar</td>\n",
       "      <td>47</td>\n",
       "      <td>72</td>\n",
       "    </tr>\n",
       "    <tr>\n",
       "      <td>Hero</td>\n",
       "      <td>48</td>\n",
       "      <td>71</td>\n",
       "    </tr>\n",
       "    <tr>\n",
       "      <td>Sheik</td>\n",
       "      <td>49</td>\n",
       "      <td>70</td>\n",
       "    </tr>\n",
       "    <tr>\n",
       "      <td>Chrom</td>\n",
       "      <td>50</td>\n",
       "      <td>66</td>\n",
       "    </tr>\n",
       "  </tbody>\n",
       "</table>\n",
       "</div>"
      ],
      "text/plain": [
       "                  Rank    0\n",
       "Name                       \n",
       "Dark Samus           1  210\n",
       "Piranha Plant        2  202\n",
       "Bowser               3  199\n",
       "Ryu                  4  197\n",
       "Greninja             5  196\n",
       "Ken                  6  191\n",
       "Incineroar           7  189\n",
       "Ganondorf            8  189\n",
       "Captain Falcon       9  185\n",
       "Pichu               10  180\n",
       "Richter             11  176\n",
       "Simon               12  173\n",
       "Yoshi               13  171\n",
       "Zero Suit Samus     14  168\n",
       "Villager            15  167\n",
       "Bowser Jr.          16  158\n",
       "Bayonetta           17  151\n",
       "Wii Fit Trainer     18  147\n",
       "Mii Brawler         19  146\n",
       "Samus               20  146\n",
       "Wario               21  146\n",
       "Donkey Kong         22  143\n",
       "King Dedede         23  142\n",
       "King K. Rool        24  139\n",
       "Ike                 25  136\n",
       "Wolf                26  133\n",
       "Fox                 27  131\n",
       "Diddy Kong          28  128\n",
       "Toon Link           29  126\n",
       "Zelda               30  122\n",
       "Shulk               31  120\n",
       "Palutena            32  117\n",
       "Cloud               33  117\n",
       "Lucas               34  115\n",
       "Mii Gunner          35  114\n",
       "Robin               36  114\n",
       "Young Link          37  112\n",
       "Luigi               38  111\n",
       "Mii Swordfighter    39  101\n",
       "Mega Man            40   94\n",
       "Ridley              41   92\n",
       "Corrin              42   87\n",
       "Falco               43   87\n",
       "Dr. Mario           44   87\n",
       "Isabelle            45   84\n",
       "Inkling             46   77\n",
       "Olimar              47   72\n",
       "Hero                48   71\n",
       "Sheik               49   70\n",
       "Chrom               50   66"
      ]
     },
     "execution_count": 471,
     "metadata": {},
     "output_type": "execute_result"
    }
   ],
   "source": []
  },
  {
   "cell_type": "code",
   "execution_count": 490,
   "metadata": {},
   "outputs": [],
   "source": [
    "from sklearn.feature_selection import SelectKBest\n",
    "from sklearn.feature_selection import chi2"
   ]
  },
  {
   "cell_type": "code",
   "execution_count": 503,
   "metadata": {},
   "outputs": [
    {
     "name": "stdout",
     "output_type": "stream",
     "text": [
      "          Specs     Score\n",
      "10     Air Jump  0.999642\n",
      "20    Run Speed  0.304845\n",
      "21  Dash Frames  0.206294\n",
      "6    % Increase  0.179980\n",
      "7       Gravity  0.136490\n",
      "18   Walk Speed  0.060838\n",
      "15       Rank_x  0.048078\n",
      "9   Short Hop_x  0.046767\n",
      "5     Fast Fall  0.042501\n",
      "8    Full Hop_x  0.041479\n"
     ]
    }
   ],
   "source": [
    "#apply SelectKBest class to extract top 10 best features\n",
    "bestfeatures = SelectKBest(score_func=chi2, k=4)\n",
    "fit = bestfeatures.fit(X_train,y_train)\n",
    "dfscores = pd.DataFrame(fit.scores_)\n",
    "dfcolumns = pd.DataFrame(alldata.columns)\n",
    "#concat two dataframes for better visualization \n",
    "featureScores = pd.concat([dfcolumns,dfscores],axis=1)\n",
    "featureScores.columns = ['Specs','Score']  #naming the dataframe columns\n",
    "print(featureScores.nlargest(10,'Score'))  #print 10 best features"
   ]
  },
  {
   "cell_type": "code",
   "execution_count": null,
   "metadata": {},
   "outputs": [],
   "source": []
  }
 ],
 "metadata": {
  "kernelspec": {
   "display_name": "Python 3",
   "language": "python",
   "name": "python3"
  },
  "language_info": {
   "codemirror_mode": {
    "name": "ipython",
    "version": 3
   },
   "file_extension": ".py",
   "mimetype": "text/x-python",
   "name": "python",
   "nbconvert_exporter": "python",
   "pygments_lexer": "ipython3",
   "version": "3.7.4"
  }
 },
 "nbformat": 4,
 "nbformat_minor": 2
}
